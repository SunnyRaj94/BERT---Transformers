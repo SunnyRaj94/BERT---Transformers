{
 "cells": [
  {
   "cell_type": "markdown",
   "id": "257d8a41",
   "metadata": {},
   "source": [
    "This Notebook is created to be familliar with bert.\n",
    "I am trying to Classify spam vs no spam emails  (Text Classification Using BERT)\n",
    "I took help from this channel.\n",
    "https://www.youtube.com/channel/UCh9nVJoWXmFb7sLApWGcLPQ"
   ]
  },
  {
   "cell_type": "markdown",
   "id": "071f4d46",
   "metadata": {},
   "source": [
    "IMPORTANT PAGES / ARTICLES --\n",
    "\n",
    "https://tfhub.dev/google/collections/bert/1 .\n",
    "\n",
    "https://tfhub.dev/tensorflow/bert_en_uncased_L-12_H-768_A-12/4 .\n",
    "\n",
    "https://jalammar.github.io/illustrated-bert/ -- for better bert understanding"
   ]
  },
  {
   "cell_type": "code",
   "execution_count": 1,
   "id": "df3ac155",
   "metadata": {},
   "outputs": [],
   "source": [
    "import tensorflow as tf\n",
    "import tensorflow_hub as hub\n",
    "import tensorflow_text as text"
   ]
  },
  {
   "cell_type": "markdown",
   "id": "dfcfc0dc",
   "metadata": {},
   "source": [
    "#### Import dataset "
   ]
  },
  {
   "cell_type": "code",
   "execution_count": 2,
   "id": "0ed3267a",
   "metadata": {},
   "outputs": [
    {
     "data": {
      "text/html": [
       "<div>\n",
       "<style scoped>\n",
       "    .dataframe tbody tr th:only-of-type {\n",
       "        vertical-align: middle;\n",
       "    }\n",
       "\n",
       "    .dataframe tbody tr th {\n",
       "        vertical-align: top;\n",
       "    }\n",
       "\n",
       "    .dataframe thead th {\n",
       "        text-align: right;\n",
       "    }\n",
       "</style>\n",
       "<table border=\"1\" class=\"dataframe\">\n",
       "  <thead>\n",
       "    <tr style=\"text-align: right;\">\n",
       "      <th></th>\n",
       "      <th>Category</th>\n",
       "      <th>Message</th>\n",
       "    </tr>\n",
       "  </thead>\n",
       "  <tbody>\n",
       "    <tr>\n",
       "      <th>0</th>\n",
       "      <td>ham</td>\n",
       "      <td>Go until jurong point, crazy.. Available only ...</td>\n",
       "    </tr>\n",
       "    <tr>\n",
       "      <th>1</th>\n",
       "      <td>ham</td>\n",
       "      <td>Ok lar... Joking wif u oni...</td>\n",
       "    </tr>\n",
       "    <tr>\n",
       "      <th>2</th>\n",
       "      <td>spam</td>\n",
       "      <td>Free entry in 2 a wkly comp to win FA Cup fina...</td>\n",
       "    </tr>\n",
       "    <tr>\n",
       "      <th>3</th>\n",
       "      <td>ham</td>\n",
       "      <td>U dun say so early hor... U c already then say...</td>\n",
       "    </tr>\n",
       "    <tr>\n",
       "      <th>4</th>\n",
       "      <td>ham</td>\n",
       "      <td>Nah I don't think he goes to usf, he lives aro...</td>\n",
       "    </tr>\n",
       "  </tbody>\n",
       "</table>\n",
       "</div>"
      ],
      "text/plain": [
       "  Category                                            Message\n",
       "0      ham  Go until jurong point, crazy.. Available only ...\n",
       "1      ham                      Ok lar... Joking wif u oni...\n",
       "2     spam  Free entry in 2 a wkly comp to win FA Cup fina...\n",
       "3      ham  U dun say so early hor... U c already then say...\n",
       "4      ham  Nah I don't think he goes to usf, he lives aro..."
      ]
     },
     "execution_count": 2,
     "metadata": {},
     "output_type": "execute_result"
    }
   ],
   "source": [
    "import pandas as pd\n",
    "\n",
    "df = pd.read_csv(\"spam.csv\") ## (Dataset is taken from kaggle)\n",
    "df.head(5)"
   ]
  },
  {
   "cell_type": "code",
   "execution_count": 3,
   "id": "3de62b06",
   "metadata": {},
   "outputs": [
    {
     "data": {
      "text/html": [
       "<div>\n",
       "<style scoped>\n",
       "    .dataframe tbody tr th:only-of-type {\n",
       "        vertical-align: middle;\n",
       "    }\n",
       "\n",
       "    .dataframe tbody tr th {\n",
       "        vertical-align: top;\n",
       "    }\n",
       "\n",
       "    .dataframe thead tr th {\n",
       "        text-align: left;\n",
       "    }\n",
       "\n",
       "    .dataframe thead tr:last-of-type th {\n",
       "        text-align: right;\n",
       "    }\n",
       "</style>\n",
       "<table border=\"1\" class=\"dataframe\">\n",
       "  <thead>\n",
       "    <tr>\n",
       "      <th></th>\n",
       "      <th colspan=\"4\" halign=\"left\">Message</th>\n",
       "    </tr>\n",
       "    <tr>\n",
       "      <th></th>\n",
       "      <th>count</th>\n",
       "      <th>unique</th>\n",
       "      <th>top</th>\n",
       "      <th>freq</th>\n",
       "    </tr>\n",
       "    <tr>\n",
       "      <th>Category</th>\n",
       "      <th></th>\n",
       "      <th></th>\n",
       "      <th></th>\n",
       "      <th></th>\n",
       "    </tr>\n",
       "  </thead>\n",
       "  <tbody>\n",
       "    <tr>\n",
       "      <th>ham</th>\n",
       "      <td>4825</td>\n",
       "      <td>4516</td>\n",
       "      <td>Sorry, I'll call later</td>\n",
       "      <td>30</td>\n",
       "    </tr>\n",
       "    <tr>\n",
       "      <th>spam</th>\n",
       "      <td>747</td>\n",
       "      <td>641</td>\n",
       "      <td>Please call our customer service representativ...</td>\n",
       "      <td>4</td>\n",
       "    </tr>\n",
       "  </tbody>\n",
       "</table>\n",
       "</div>"
      ],
      "text/plain": [
       "         Message                                                            \\\n",
       "           count unique                                                top   \n",
       "Category                                                                     \n",
       "ham         4825   4516                             Sorry, I'll call later   \n",
       "spam         747    641  Please call our customer service representativ...   \n",
       "\n",
       "               \n",
       "         freq  \n",
       "Category       \n",
       "ham        30  \n",
       "spam        4  "
      ]
     },
     "execution_count": 3,
     "metadata": {},
     "output_type": "execute_result"
    }
   ],
   "source": [
    "df.groupby('Category').describe()"
   ]
  },
  {
   "cell_type": "code",
   "execution_count": 4,
   "id": "43bdf4f4",
   "metadata": {},
   "outputs": [
    {
     "data": {
      "text/html": [
       "<div>\n",
       "<style scoped>\n",
       "    .dataframe tbody tr th:only-of-type {\n",
       "        vertical-align: middle;\n",
       "    }\n",
       "\n",
       "    .dataframe tbody tr th {\n",
       "        vertical-align: top;\n",
       "    }\n",
       "\n",
       "    .dataframe thead th {\n",
       "        text-align: right;\n",
       "    }\n",
       "</style>\n",
       "<table border=\"1\" class=\"dataframe\">\n",
       "  <thead>\n",
       "    <tr style=\"text-align: right;\">\n",
       "      <th></th>\n",
       "      <th>Category</th>\n",
       "      <th>Message</th>\n",
       "      <th>spam</th>\n",
       "    </tr>\n",
       "  </thead>\n",
       "  <tbody>\n",
       "    <tr>\n",
       "      <th>0</th>\n",
       "      <td>ham</td>\n",
       "      <td>Go until jurong point, crazy.. Available only ...</td>\n",
       "      <td>0</td>\n",
       "    </tr>\n",
       "    <tr>\n",
       "      <th>1</th>\n",
       "      <td>ham</td>\n",
       "      <td>Ok lar... Joking wif u oni...</td>\n",
       "      <td>0</td>\n",
       "    </tr>\n",
       "    <tr>\n",
       "      <th>2</th>\n",
       "      <td>spam</td>\n",
       "      <td>Free entry in 2 a wkly comp to win FA Cup fina...</td>\n",
       "      <td>1</td>\n",
       "    </tr>\n",
       "    <tr>\n",
       "      <th>3</th>\n",
       "      <td>ham</td>\n",
       "      <td>U dun say so early hor... U c already then say...</td>\n",
       "      <td>0</td>\n",
       "    </tr>\n",
       "    <tr>\n",
       "      <th>4</th>\n",
       "      <td>ham</td>\n",
       "      <td>Nah I don't think he goes to usf, he lives aro...</td>\n",
       "      <td>0</td>\n",
       "    </tr>\n",
       "  </tbody>\n",
       "</table>\n",
       "</div>"
      ],
      "text/plain": [
       "  Category                                            Message  spam\n",
       "0      ham  Go until jurong point, crazy.. Available only ...     0\n",
       "1      ham                      Ok lar... Joking wif u oni...     0\n",
       "2     spam  Free entry in 2 a wkly comp to win FA Cup fina...     1\n",
       "3      ham  U dun say so early hor... U c already then say...     0\n",
       "4      ham  Nah I don't think he goes to usf, he lives aro...     0"
      ]
     },
     "execution_count": 4,
     "metadata": {},
     "output_type": "execute_result"
    }
   ],
   "source": [
    "df['spam']=df['Category'].apply(lambda x: 1 if x=='spam' else 0)\n",
    "df.head()"
   ]
  },
  {
   "cell_type": "markdown",
   "id": "d758a6a7",
   "metadata": {},
   "source": [
    "#### Split it into training and test data set"
   ]
  },
  {
   "cell_type": "code",
   "execution_count": 5,
   "id": "32266944",
   "metadata": {},
   "outputs": [],
   "source": [
    "## data is imbalanced\n",
    "\n",
    "from sklearn.model_selection import train_test_split\n",
    "\n",
    "X_train, X_test, y_train, y_test = train_test_split(df['Message'],df['spam'], stratify=df['spam'])"
   ]
  },
  {
   "cell_type": "code",
   "execution_count": 6,
   "id": "2f095207",
   "metadata": {},
   "outputs": [
    {
     "data": {
      "text/plain": [
       "5333    Neither [in sterm voice] - i'm studying. All f...\n",
       "4880    Yeah just open chat and click friend lists. Th...\n",
       "1257       Not yet chikku..going to room nw, i'm in bus..\n",
       "600                I'm going out to buy mum's present ar.\n",
       "Name: Message, dtype: object"
      ]
     },
     "execution_count": 6,
     "metadata": {},
     "output_type": "execute_result"
    }
   ],
   "source": [
    "X_train.head(4)"
   ]
  },
  {
   "cell_type": "markdown",
   "id": "b14eb3ac",
   "metadata": {},
   "source": [
    "####  importing BERT model and get embeding vectors for few sample statements"
   ]
  },
  {
   "cell_type": "code",
   "execution_count": 7,
   "id": "438c9c11",
   "metadata": {},
   "outputs": [],
   "source": [
    "bert_preprocess = hub.KerasLayer(\"https://tfhub.dev/tensorflow/bert_en_uncased_preprocess/3\")\n",
    "bert_encoder = hub.KerasLayer(\"https://tfhub.dev/tensorflow/bert_en_uncased_L-12_H-768_A-12/4\")"
   ]
  },
  {
   "cell_type": "code",
   "execution_count": 26,
   "id": "8145f8db",
   "metadata": {},
   "outputs": [],
   "source": [
    "preprocessed_text = bert_preprocess([\n",
    "    \"500$ discount. hurry up\", \n",
    "    \"Bhavin, are you up for a volleybal game tomorrow?\"])"
   ]
  },
  {
   "cell_type": "code",
   "execution_count": 27,
   "id": "70874d2c",
   "metadata": {},
   "outputs": [
    {
     "data": {
      "text/plain": [
       "dict_keys(['input_word_ids', 'input_mask', 'input_type_ids'])"
      ]
     },
     "execution_count": 27,
     "metadata": {},
     "output_type": "execute_result"
    }
   ],
   "source": [
    "preprocessed_text.keys()"
   ]
  },
  {
   "cell_type": "code",
   "execution_count": 28,
   "id": "ae5247c2",
   "metadata": {},
   "outputs": [
    {
     "data": {
      "text/plain": [
       "<tf.Tensor: shape=(2, 128), dtype=int32, numpy=\n",
       "array([[  101,  3156,  1002, 19575,  1012,  9241,  2039,   102,     0,\n",
       "            0,     0,     0,     0,     0,     0,     0,     0,     0,\n",
       "            0,     0,     0,     0,     0,     0,     0,     0,     0,\n",
       "            0,     0,     0,     0,     0,     0,     0,     0,     0,\n",
       "            0,     0,     0,     0,     0,     0,     0,     0,     0,\n",
       "            0,     0,     0,     0,     0,     0,     0,     0,     0,\n",
       "            0,     0,     0,     0,     0,     0,     0,     0,     0,\n",
       "            0,     0,     0,     0,     0,     0,     0,     0,     0,\n",
       "            0,     0,     0,     0,     0,     0,     0,     0,     0,\n",
       "            0,     0,     0,     0,     0,     0,     0,     0,     0,\n",
       "            0,     0,     0,     0,     0,     0,     0,     0,     0,\n",
       "            0,     0,     0,     0,     0,     0,     0,     0,     0,\n",
       "            0,     0,     0,     0,     0,     0,     0,     0,     0,\n",
       "            0,     0,     0,     0,     0,     0,     0,     0,     0,\n",
       "            0,     0],\n",
       "       [  101,  1038,  3270,  6371,  1010,  2024,  2017,  2039,  2005,\n",
       "         1037, 28073, 10264,  2208,  4826,  1029,   102,     0,     0,\n",
       "            0,     0,     0,     0,     0,     0,     0,     0,     0,\n",
       "            0,     0,     0,     0,     0,     0,     0,     0,     0,\n",
       "            0,     0,     0,     0,     0,     0,     0,     0,     0,\n",
       "            0,     0,     0,     0,     0,     0,     0,     0,     0,\n",
       "            0,     0,     0,     0,     0,     0,     0,     0,     0,\n",
       "            0,     0,     0,     0,     0,     0,     0,     0,     0,\n",
       "            0,     0,     0,     0,     0,     0,     0,     0,     0,\n",
       "            0,     0,     0,     0,     0,     0,     0,     0,     0,\n",
       "            0,     0,     0,     0,     0,     0,     0,     0,     0,\n",
       "            0,     0,     0,     0,     0,     0,     0,     0,     0,\n",
       "            0,     0,     0,     0,     0,     0,     0,     0,     0,\n",
       "            0,     0,     0,     0,     0,     0,     0,     0,     0,\n",
       "            0,     0]])>"
      ]
     },
     "execution_count": 28,
     "metadata": {},
     "output_type": "execute_result"
    }
   ],
   "source": [
    "preprocessed_text['input_word_ids']"
   ]
  },
  {
   "cell_type": "code",
   "execution_count": 29,
   "id": "cf8ecaa0",
   "metadata": {},
   "outputs": [
    {
     "data": {
      "text/plain": [
       "<tf.Tensor: shape=(2, 128), dtype=int32, numpy=\n",
       "array([[1, 1, 1, 1, 1, 1, 1, 1, 0, 0, 0, 0, 0, 0, 0, 0, 0, 0, 0, 0, 0, 0,\n",
       "        0, 0, 0, 0, 0, 0, 0, 0, 0, 0, 0, 0, 0, 0, 0, 0, 0, 0, 0, 0, 0, 0,\n",
       "        0, 0, 0, 0, 0, 0, 0, 0, 0, 0, 0, 0, 0, 0, 0, 0, 0, 0, 0, 0, 0, 0,\n",
       "        0, 0, 0, 0, 0, 0, 0, 0, 0, 0, 0, 0, 0, 0, 0, 0, 0, 0, 0, 0, 0, 0,\n",
       "        0, 0, 0, 0, 0, 0, 0, 0, 0, 0, 0, 0, 0, 0, 0, 0, 0, 0, 0, 0, 0, 0,\n",
       "        0, 0, 0, 0, 0, 0, 0, 0, 0, 0, 0, 0, 0, 0, 0, 0, 0, 0],\n",
       "       [1, 1, 1, 1, 1, 1, 1, 1, 1, 1, 1, 1, 1, 1, 1, 1, 0, 0, 0, 0, 0, 0,\n",
       "        0, 0, 0, 0, 0, 0, 0, 0, 0, 0, 0, 0, 0, 0, 0, 0, 0, 0, 0, 0, 0, 0,\n",
       "        0, 0, 0, 0, 0, 0, 0, 0, 0, 0, 0, 0, 0, 0, 0, 0, 0, 0, 0, 0, 0, 0,\n",
       "        0, 0, 0, 0, 0, 0, 0, 0, 0, 0, 0, 0, 0, 0, 0, 0, 0, 0, 0, 0, 0, 0,\n",
       "        0, 0, 0, 0, 0, 0, 0, 0, 0, 0, 0, 0, 0, 0, 0, 0, 0, 0, 0, 0, 0, 0,\n",
       "        0, 0, 0, 0, 0, 0, 0, 0, 0, 0, 0, 0, 0, 0, 0, 0, 0, 0]])>"
      ]
     },
     "execution_count": 29,
     "metadata": {},
     "output_type": "execute_result"
    }
   ],
   "source": [
    "preprocessed_text['input_mask']"
   ]
  },
  {
   "cell_type": "code",
   "execution_count": 30,
   "id": "b1559eb0",
   "metadata": {},
   "outputs": [
    {
     "data": {
      "text/plain": [
       "<tf.Tensor: shape=(2, 128), dtype=int32, numpy=\n",
       "array([[0, 0, 0, 0, 0, 0, 0, 0, 0, 0, 0, 0, 0, 0, 0, 0, 0, 0, 0, 0, 0, 0,\n",
       "        0, 0, 0, 0, 0, 0, 0, 0, 0, 0, 0, 0, 0, 0, 0, 0, 0, 0, 0, 0, 0, 0,\n",
       "        0, 0, 0, 0, 0, 0, 0, 0, 0, 0, 0, 0, 0, 0, 0, 0, 0, 0, 0, 0, 0, 0,\n",
       "        0, 0, 0, 0, 0, 0, 0, 0, 0, 0, 0, 0, 0, 0, 0, 0, 0, 0, 0, 0, 0, 0,\n",
       "        0, 0, 0, 0, 0, 0, 0, 0, 0, 0, 0, 0, 0, 0, 0, 0, 0, 0, 0, 0, 0, 0,\n",
       "        0, 0, 0, 0, 0, 0, 0, 0, 0, 0, 0, 0, 0, 0, 0, 0, 0, 0],\n",
       "       [0, 0, 0, 0, 0, 0, 0, 0, 0, 0, 0, 0, 0, 0, 0, 0, 0, 0, 0, 0, 0, 0,\n",
       "        0, 0, 0, 0, 0, 0, 0, 0, 0, 0, 0, 0, 0, 0, 0, 0, 0, 0, 0, 0, 0, 0,\n",
       "        0, 0, 0, 0, 0, 0, 0, 0, 0, 0, 0, 0, 0, 0, 0, 0, 0, 0, 0, 0, 0, 0,\n",
       "        0, 0, 0, 0, 0, 0, 0, 0, 0, 0, 0, 0, 0, 0, 0, 0, 0, 0, 0, 0, 0, 0,\n",
       "        0, 0, 0, 0, 0, 0, 0, 0, 0, 0, 0, 0, 0, 0, 0, 0, 0, 0, 0, 0, 0, 0,\n",
       "        0, 0, 0, 0, 0, 0, 0, 0, 0, 0, 0, 0, 0, 0, 0, 0, 0, 0]])>"
      ]
     },
     "execution_count": 30,
     "metadata": {},
     "output_type": "execute_result"
    }
   ],
   "source": [
    "preprocessed_text['input_type_ids']"
   ]
  },
  {
   "cell_type": "code",
   "execution_count": 8,
   "id": "831d5a1d",
   "metadata": {},
   "outputs": [],
   "source": [
    "def get_sentence_embeding(sentences):\n",
    "    preprocessed_text = bert_preprocess(sentences)\n",
    "    return bert_encoder(preprocessed_text)['pooled_output']"
   ]
  },
  {
   "cell_type": "code",
   "execution_count": 9,
   "id": "4a42b9ee",
   "metadata": {},
   "outputs": [
    {
     "data": {
      "text/plain": [
       "<tf.Tensor: shape=(2, 768), dtype=float32, numpy=\n",
       "array([[-0.84351707, -0.5132728 , -0.8884573 , ..., -0.7474888 ,\n",
       "        -0.7531474 ,  0.91964495],\n",
       "       [-0.87208354, -0.50543964, -0.9444667 , ..., -0.858475  ,\n",
       "        -0.7174534 ,  0.88082975]], dtype=float32)>"
      ]
     },
     "execution_count": 9,
     "metadata": {},
     "output_type": "execute_result"
    }
   ],
   "source": [
    "get_sentence_embeding([\n",
    "    \"500$ discount. hurry up\", \n",
    "    \"Bhavin, are you up for a volleybal game tomorrow?\"]\n",
    ")"
   ]
  },
  {
   "cell_type": "markdown",
   "id": "82ea569a",
   "metadata": {},
   "source": [
    "#### Get embeding vectors for few sample words. Compare them using cosine similarity "
   ]
  },
  {
   "cell_type": "code",
   "execution_count": 10,
   "id": "893c3d42",
   "metadata": {},
   "outputs": [],
   "source": [
    "e = get_sentence_embeding([\n",
    "    \"banana\", \n",
    "    \"grapes\",\n",
    "    \"mango\",\n",
    "    \"jeff bezos\",\n",
    "    \"elon musk\",\n",
    "    \"bill gates\"\n",
    "]\n",
    ")"
   ]
  },
  {
   "cell_type": "code",
   "execution_count": 32,
   "id": "25e250d4",
   "metadata": {},
   "outputs": [
    {
     "data": {
      "text/plain": [
       "TensorShape([768])"
      ]
     },
     "execution_count": 32,
     "metadata": {},
     "output_type": "execute_result"
    }
   ],
   "source": [
    "e[0].shape"
   ]
  },
  {
   "cell_type": "code",
   "execution_count": 33,
   "id": "f3b8dd2b",
   "metadata": {},
   "outputs": [
    {
     "data": {
      "text/plain": [
       "<tf.Tensor: shape=(768,), dtype=float32, numpy=\n",
       "array([-7.60691583e-01, -1.42193556e-01,  4.96047080e-01,  5.63457489e-01,\n",
       "       -3.25448960e-01, -1.04265429e-01,  8.61495197e-01,  1.53257355e-01,\n",
       "        2.36566067e-01, -9.98927772e-01,  6.37406036e-02, -2.18310002e-02,\n",
       "        9.36567307e-01, -1.49260402e-01,  8.71288121e-01, -4.62801099e-01,\n",
       "       -2.28479169e-02, -4.99922454e-01,  3.58854413e-01, -7.17522144e-01,\n",
       "        4.18188274e-01,  6.25634432e-01,  4.98549283e-01,  2.01173544e-01,\n",
       "        3.14438522e-01, -7.56920353e-02, -4.52877581e-01,  8.51691663e-01,\n",
       "        8.83203864e-01,  5.80608666e-01, -5.66584945e-01,  8.72472823e-02,\n",
       "       -9.43599880e-01, -1.90542608e-01,  4.81669575e-01, -9.41617906e-01,\n",
       "        1.21161707e-01, -6.61138535e-01, -6.05042465e-03,  2.63378527e-02,\n",
       "       -7.89631784e-01,  1.69437826e-01,  9.79319036e-01, -2.91116945e-02,\n",
       "       -1.61094099e-01, -3.15732837e-01, -9.97957706e-01,  2.24020839e-01,\n",
       "       -7.28060067e-01, -3.66885662e-01, -2.34596387e-01, -6.17093146e-01,\n",
       "        6.94629773e-02,  3.22173864e-01,  2.84901500e-01,  4.18309540e-01,\n",
       "       -1.29930004e-01,  1.58292234e-01, -1.00686371e-01, -4.51415598e-01,\n",
       "       -4.94872004e-01,  1.70133561e-01,  7.90788829e-02, -8.00855041e-01,\n",
       "       -2.96408683e-01, -4.99051899e-01, -1.06508680e-01, -2.14818969e-01,\n",
       "        2.05725152e-02, -9.21108876e-04,  7.34615862e-01,  1.70539007e-01,\n",
       "        3.54299068e-01, -6.31199300e-01, -3.54629129e-01,  1.29237801e-01,\n",
       "       -3.60235393e-01,  9.99930322e-01, -3.10640156e-01, -9.27357793e-01,\n",
       "       -5.33585966e-01, -2.07755074e-01,  2.57154673e-01,  4.78889048e-01,\n",
       "       -4.12793458e-01, -9.99678433e-01,  2.28649646e-01, -9.19613317e-02,\n",
       "       -9.62113857e-01,  1.80686668e-01,  2.44114950e-01, -1.04120001e-01,\n",
       "       -6.16570830e-01,  2.24619985e-01, -2.28492379e-01,  4.11917368e-04,\n",
       "       -2.09042475e-01,  4.05355960e-01, -8.54564980e-02,  8.63476023e-02,\n",
       "        2.65701991e-02, -1.74400419e-01,  7.73498714e-02, -2.08924964e-01,\n",
       "        8.05403441e-02, -2.46470213e-01, -3.01795006e-01,  1.83949191e-02,\n",
       "       -1.24039754e-01,  5.39825380e-01,  1.74734533e-01, -2.20201030e-01,\n",
       "        2.40594402e-01, -9.12580073e-01,  5.19261241e-01, -1.63401201e-01,\n",
       "       -9.32158649e-01, -3.24141353e-01, -9.56360936e-01,  5.14417410e-01,\n",
       "       -1.67483538e-02, -1.59640685e-01,  8.90130281e-01,  5.93507051e-01,\n",
       "        1.51615068e-01,  1.90902613e-02,  4.73911941e-01, -9.99975979e-01,\n",
       "       -3.18110794e-01, -9.22733769e-02,  1.62320942e-01, -2.65160408e-02,\n",
       "       -9.23452556e-01, -8.57459843e-01,  4.77781773e-01,  8.96304905e-01,\n",
       "        5.17602563e-02,  9.67120707e-01, -1.59636334e-01,  8.12311530e-01,\n",
       "        6.13726899e-02, -7.04681426e-02, -1.93001926e-01, -2.75643826e-01,\n",
       "        1.49963900e-01,  3.24624836e-01, -5.40586352e-01,  1.82650939e-01,\n",
       "        2.00375363e-01, -7.32452199e-02,  1.09915726e-01, -2.00826496e-01,\n",
       "        3.44542801e-01, -8.58704925e-01, -3.38049710e-01,  8.51917803e-01,\n",
       "        2.06448361e-01,  3.78257364e-01,  5.43176293e-01, -1.61408424e-01,\n",
       "       -3.52322936e-01,  7.13693798e-01,  8.47764239e-02,  2.66392142e-01,\n",
       "       -6.76997304e-02,  2.66621530e-01, -3.00813206e-02,  3.58053267e-01,\n",
       "       -6.97565317e-01,  1.77619770e-01,  2.72608489e-01, -1.45520359e-01,\n",
       "        4.69754934e-01, -9.10997510e-01, -2.53341287e-01,  2.94374496e-01,\n",
       "        9.55219984e-01,  6.03702605e-01,  1.50633976e-01, -1.24803446e-02,\n",
       "       -1.24361806e-01,  2.23451003e-01, -8.36890399e-01,  9.11502898e-01,\n",
       "       -1.42315462e-01,  1.86203465e-01,  6.27746701e-01, -2.71120101e-01,\n",
       "       -7.57083774e-01, -3.55241954e-01,  7.35517621e-01,  4.75214678e-04,\n",
       "       -6.81205869e-01,  4.04130816e-02, -3.74622792e-01, -2.96205074e-01,\n",
       "        3.79337728e-01,  3.56591761e-01, -2.24538505e-01, -3.45019549e-01,\n",
       "        1.63967311e-02,  8.07208776e-01,  9.30763841e-01,  6.89686894e-01,\n",
       "       -5.44367373e-01,  4.61107999e-01, -8.19059432e-01, -3.56408745e-01,\n",
       "        7.35960901e-02,  2.13531926e-01,  1.39195040e-01,  9.75812256e-01,\n",
       "        2.05599904e-01, -1.02065861e-01, -8.33543897e-01, -9.42113221e-01,\n",
       "        3.85821424e-02, -8.18602026e-01,  1.78940240e-02, -5.26497304e-01,\n",
       "        1.31879792e-01,  6.87040746e-01, -2.37116404e-02,  2.91757733e-01,\n",
       "       -9.58189309e-01, -6.54047251e-01,  2.86253303e-01, -7.90374503e-02,\n",
       "        2.64390260e-01, -1.69832766e-01, -1.72785997e-01, -3.80291462e-01,\n",
       "       -3.86370599e-01,  7.41621971e-01,  7.44576097e-01,  6.37949169e-01,\n",
       "       -5.22155046e-01,  7.61599183e-01, -1.63211390e-01,  7.47112155e-01,\n",
       "       -4.91491079e-01,  9.00425553e-01, -2.28956267e-01,  2.94576526e-01,\n",
       "       -8.21666062e-01,  4.57511872e-01, -8.46029639e-01,  1.57098189e-01,\n",
       "       -4.69204895e-02, -5.64051986e-01, -1.74261346e-01,  2.61449814e-01,\n",
       "        2.17070803e-01,  6.92503512e-01, -3.86254013e-01,  9.86916244e-01,\n",
       "        8.28018710e-02, -8.66413474e-01,  4.30153430e-01, -1.09467342e-01,\n",
       "       -9.42941666e-01, -2.96832651e-01,  2.74522722e-01, -5.94481826e-01,\n",
       "       -2.58090645e-01, -2.17448130e-01, -8.52338374e-01,  8.11665475e-01,\n",
       "        1.45340294e-01,  9.68685091e-01,  2.66676247e-01, -8.59937668e-01,\n",
       "       -2.38830432e-01, -7.56195366e-01, -1.81240082e-01, -1.00895064e-02,\n",
       "        5.34439206e-01, -1.54773995e-01, -9.09541547e-01,  3.85989904e-01,\n",
       "        4.17502105e-01,  2.67049432e-01,  5.78729033e-01,  9.83963370e-01,\n",
       "        9.85941827e-01,  9.13914144e-01,  7.95162320e-01,  7.93819070e-01,\n",
       "       -4.29426700e-01,  1.66691691e-01,  9.99410570e-01, -8.56671191e-04,\n",
       "       -9.99057889e-01, -8.64817500e-01, -5.05025983e-01,  2.67457277e-01,\n",
       "       -9.99968290e-01,  1.19525325e-02,  2.94142663e-02, -8.05873036e-01,\n",
       "       -3.23036849e-01,  9.25172925e-01,  9.66207683e-01, -9.99882698e-01,\n",
       "        6.98481739e-01,  8.60802114e-01, -3.87185514e-01,  5.10500930e-03,\n",
       "       -1.41845290e-02,  9.11423504e-01,  3.42974395e-01,  1.97784483e-01,\n",
       "       -1.06917880e-01,  1.81519598e-01,  1.09623395e-01, -7.29356647e-01,\n",
       "        4.44423676e-01,  4.92354810e-01, -7.70432428e-02,  1.30394235e-01,\n",
       "       -5.90993047e-01, -8.27506125e-01, -3.79104823e-01, -1.17339261e-01,\n",
       "       -2.69714952e-01, -8.69393110e-01, -1.12122968e-01, -3.27585727e-01,\n",
       "        4.91436690e-01,  1.43011091e-02,  1.30577981e-01, -6.69954896e-01,\n",
       "        1.38614058e-01, -6.28755510e-01,  2.68666744e-01,  3.82175952e-01,\n",
       "       -8.57881606e-01, -4.71085399e-01, -3.94991517e-01, -3.58757228e-01,\n",
       "        3.06654662e-01, -8.49957168e-01,  9.26096261e-01, -2.72719175e-01,\n",
       "       -1.02139853e-01,  9.99915242e-01, -3.28310728e-01, -7.28641391e-01,\n",
       "        1.68423072e-01,  9.86820757e-02, -8.39382112e-02,  9.99820590e-01,\n",
       "        1.99877813e-01, -9.19860363e-01, -2.61617154e-01,  6.91204965e-02,\n",
       "       -2.86013037e-01, -2.02123120e-01,  9.87307370e-01, -1.22372054e-01,\n",
       "        3.49978328e-01,  4.52202499e-01,  8.93497288e-01, -9.51149583e-01,\n",
       "       -2.80301660e-01, -8.14016521e-01, -8.91932070e-01,  8.89002383e-01,\n",
       "        8.28229308e-01, -6.88134432e-02, -3.41419578e-01,  5.22319786e-02,\n",
       "        2.37449408e-02,  2.12944850e-01, -9.25707400e-01,  4.50907350e-01,\n",
       "        3.98691684e-01, -1.01463631e-01,  8.29096615e-01, -7.88820863e-01,\n",
       "       -2.95507550e-01,  3.19885790e-01,  1.25601754e-01,  2.81700760e-01,\n",
       "       -4.86650407e-01,  3.64149660e-01, -2.12598205e-01,  2.87769847e-02,\n",
       "       -2.42807165e-01,  3.57403785e-01, -9.13414657e-01, -1.64556548e-01,\n",
       "        9.99783814e-01,  1.29314676e-01, -6.09802723e-01, -1.69841141e-01,\n",
       "       -7.91020021e-02, -2.97174364e-01,  2.14614347e-01,  2.47802809e-01,\n",
       "       -2.03905210e-01, -6.65363967e-01, -2.74759412e-01, -8.61293793e-01,\n",
       "       -9.34604108e-01,  6.40933454e-01,  2.02620313e-01, -2.15655342e-01,\n",
       "        9.87292230e-01,  1.67264730e-01,  1.08830787e-01, -1.54115736e-01,\n",
       "       -2.55969763e-01, -8.46227165e-04,  4.50209826e-01, -4.53826427e-01,\n",
       "        8.99820864e-01, -1.70234755e-01,  2.77406663e-01,  7.27167368e-01,\n",
       "        3.34925830e-01, -1.95937753e-01, -5.29984951e-01,  3.63793820e-02,\n",
       "       -7.72160172e-01, -1.67820789e-03, -8.59229565e-01,  8.94446969e-01,\n",
       "       -4.95676190e-01,  2.56929517e-01,  7.23556206e-02, -3.10960591e-01,\n",
       "        9.99885738e-01,  4.37616855e-01,  4.91657823e-01, -6.12261772e-01,\n",
       "        8.10825109e-01, -2.52065986e-01, -5.52531302e-01, -2.87662536e-01,\n",
       "        6.43619476e-03,  4.24624443e-01, -1.34348571e-01,  1.92802995e-01,\n",
       "       -9.10410643e-01, -2.80929685e-01, -1.95426539e-01, -9.52341139e-01,\n",
       "       -9.68044162e-01,  5.14264703e-01,  6.44308627e-01,  5.90133034e-02,\n",
       "        1.06091924e-01, -5.42785823e-01, -4.12284315e-01,  1.72483176e-01,\n",
       "       -1.65843129e-01, -8.42453539e-01,  4.94363248e-01, -1.24664739e-01,\n",
       "        3.15626889e-01, -1.14712149e-01,  3.01412076e-01, -4.85607803e-01,\n",
       "        6.77220523e-01,  7.23276913e-01,  1.74434632e-01, -3.95776853e-02,\n",
       "       -7.11020589e-01,  7.05761373e-01, -7.10762799e-01,  3.76641482e-01,\n",
       "       -9.15760696e-02,  9.99957740e-01, -1.87407076e-01, -3.02178144e-01,\n",
       "        5.66786110e-01,  5.82083404e-01, -4.20360407e-03,  1.89541981e-01,\n",
       "       -4.46288586e-01,  9.81076211e-02,  3.89290184e-01,  4.53861654e-01,\n",
       "       -7.83096671e-01, -1.98090389e-01,  3.47362697e-01, -6.34023130e-01,\n",
       "       -4.48541582e-01,  5.75747013e-01, -1.56941831e-01,  1.80260148e-02,\n",
       "        1.41675426e-02,  2.31983121e-02,  9.94942725e-01, -1.51692957e-01,\n",
       "        6.39551952e-02, -3.32039654e-01,  6.47817086e-03, -2.12682992e-01,\n",
       "       -6.36970162e-01,  9.99339163e-01,  2.98780113e-01, -2.49129906e-01,\n",
       "       -9.57320869e-01,  4.00783509e-01, -8.26081097e-01,  9.60576117e-01,\n",
       "        5.96080899e-01, -7.00090766e-01,  2.77930439e-01,  2.76963115e-01,\n",
       "       -1.21742301e-01,  6.81581914e-01, -1.34116054e-01, -2.17018142e-01,\n",
       "        4.19812575e-02,  1.87200859e-01,  8.83923292e-01, -2.96877146e-01,\n",
       "       -8.72447908e-01, -3.52438033e-01,  2.64560401e-01, -8.99660647e-01,\n",
       "        4.74523336e-01, -4.19871420e-01, -3.62403952e-02, -2.15378836e-01,\n",
       "        4.27788705e-01,  8.15561354e-01, -4.12854701e-02, -9.20826674e-01,\n",
       "       -1.08808741e-01,  1.36391027e-02,  8.90146971e-01,  1.01550907e-01,\n",
       "       -2.63597250e-01, -8.16592097e-01, -4.58152235e-01, -1.67857930e-01,\n",
       "        5.11690021e-01, -8.40131521e-01,  9.01220083e-01, -9.55706537e-01,\n",
       "        2.62373328e-01,  9.99198079e-01,  1.90469965e-01, -6.05327010e-01,\n",
       "        1.42391637e-01, -2.27562457e-01,  1.42643780e-01,  2.45824292e-01,\n",
       "        4.49429959e-01, -8.65656078e-01, -1.90969884e-01, -8.34800974e-02,\n",
       "        1.34988889e-01, -1.31249696e-01,  5.68368375e-01,  4.54003900e-01,\n",
       "        8.77610222e-02, -2.53982127e-01, -3.94669801e-01, -1.09301796e-02,\n",
       "        3.33616108e-01,  5.64406395e-01, -2.65972465e-01, -8.25818852e-02,\n",
       "        7.29645491e-02, -3.93717922e-02, -8.38619649e-01, -1.13892093e-01,\n",
       "       -1.08569957e-01, -8.15928280e-01,  5.02283156e-01, -9.99930620e-01,\n",
       "       -3.80840510e-01, -4.84773993e-01, -1.66205466e-01,  6.81215405e-01,\n",
       "       -2.20649227e-01, -3.01521301e-01, -5.49839973e-01,  3.19388777e-01,\n",
       "        7.39744782e-01,  5.73093355e-01, -1.25043377e-01,  1.00826137e-01,\n",
       "       -5.48108101e-01,  6.53788298e-02, -1.55954240e-02,  1.56587616e-01,\n",
       "        1.89295232e-01,  5.95914900e-01, -1.23348899e-01,  9.99962986e-01,\n",
       "        6.25781640e-02, -3.09969664e-01, -9.38917994e-01,  1.86966553e-01,\n",
       "       -1.56392723e-01,  9.92592752e-01, -8.20511520e-01, -8.41837585e-01,\n",
       "        1.55490160e-01, -1.25150546e-01, -6.51191354e-01,  1.22093707e-01,\n",
       "       -1.44510251e-02, -4.48255450e-01,  2.77515292e-01,  9.00031328e-01,\n",
       "        8.38841379e-01, -2.46529654e-01,  1.79882228e-01, -2.41855249e-01,\n",
       "       -2.83866554e-01,  3.83076631e-02, -5.08018911e-01,  9.43410575e-01,\n",
       "        1.79281846e-01,  7.62140095e-01,  6.44293487e-01,  2.94603825e-01,\n",
       "        8.82699966e-01,  1.12369165e-01,  5.84551156e-01,  6.00086413e-02,\n",
       "        9.99386728e-01,  2.24450812e-01, -8.45349491e-01,  3.36278170e-01,\n",
       "       -9.58080709e-01, -1.16167121e-01, -8.99541259e-01,  1.91707984e-01,\n",
       "        3.98677401e-02,  7.15810537e-01, -2.14316398e-01,  8.84619892e-01,\n",
       "        5.44563353e-01,  8.83328617e-02,  1.22888848e-01,  5.06720185e-01,\n",
       "        2.78821588e-01, -8.17172050e-01, -9.46300387e-01, -9.57403004e-01,\n",
       "        1.11694366e-01, -3.58276486e-01, -3.72920893e-02,  2.19378352e-01,\n",
       "        1.01154864e-01,  2.72467971e-01,  2.33082965e-01, -9.98800099e-01,\n",
       "        8.53580356e-01,  2.61536658e-01, -3.48597050e-01,  8.80601048e-01,\n",
       "        1.93207011e-01,  4.22447659e-02,  1.66089997e-01, -9.50976729e-01,\n",
       "       -9.20509040e-01, -2.22531468e-01, -2.53742158e-01,  6.43084586e-01,\n",
       "        4.44485545e-01,  6.91615462e-01,  2.77767241e-01, -4.71880853e-01,\n",
       "        4.17088456e-02,  4.24539834e-01,  1.06664650e-01, -9.67485845e-01,\n",
       "        3.18119943e-01,  3.00325930e-01, -9.19935048e-01,  8.84745777e-01,\n",
       "       -4.35796946e-01, -1.50715724e-01,  5.29894054e-01,  3.22757423e-01,\n",
       "        8.84380400e-01,  5.80108285e-01,  3.78886729e-01,  1.63074747e-01,\n",
       "        3.90833348e-01,  7.58656919e-01,  8.90113533e-01,  9.49910045e-01,\n",
       "        3.03479165e-01,  6.58504605e-01,  3.79135370e-01,  2.32702434e-01,\n",
       "        1.06589697e-01, -8.38688612e-01,  6.72732666e-02, -2.33098835e-01,\n",
       "       -1.94535796e-02,  1.22453667e-01, -1.26159355e-01, -9.18222368e-01,\n",
       "        1.53351098e-01, -1.16549455e-01,  3.51167977e-01, -3.07983518e-01,\n",
       "        1.70744896e-01, -3.17553788e-01, -1.42705068e-01, -5.07306337e-01,\n",
       "       -2.45494366e-01,  3.75458896e-01,  2.01460510e-01,  8.31629813e-01,\n",
       "       -4.30838438e-03, -3.11613288e-02, -4.75100458e-01, -6.87172711e-02,\n",
       "        3.57086152e-01, -8.02391469e-01,  8.56009662e-01,  5.36568910e-02,\n",
       "        3.57091576e-01, -4.66415048e-01, -3.47767472e-02,  3.01335901e-01,\n",
       "       -3.09351981e-01, -2.50147790e-01, -2.41724193e-01, -5.68295717e-01,\n",
       "        6.65573478e-01,  1.10325329e-01, -3.81656557e-01, -3.20123225e-01,\n",
       "        5.15736461e-01,  2.44204968e-01,  7.06301749e-01,  2.92655617e-01,\n",
       "        1.91084668e-01,  1.35020480e-01, -1.00609496e-01,  2.20841989e-01,\n",
       "       -1.25696272e-01, -9.98932242e-01,  3.34775418e-01,  2.52523303e-01,\n",
       "       -3.28824550e-01,  8.76839757e-02, -4.38678831e-01, -4.66037281e-02,\n",
       "       -9.40234959e-01, -9.15365815e-02, -3.68622214e-01, -3.07815611e-01,\n",
       "       -3.94200623e-01, -3.79855126e-01,  2.62052298e-01,  3.62143368e-01,\n",
       "       -2.28392482e-01,  7.81819224e-01,  1.97105378e-01,  5.25687337e-01,\n",
       "        3.64375412e-01,  4.21653956e-01, -5.32213926e-01,  8.03121567e-01],\n",
       "      dtype=float32)>"
      ]
     },
     "execution_count": 33,
     "metadata": {},
     "output_type": "execute_result"
    }
   ],
   "source": [
    "e[0]"
   ]
  },
  {
   "cell_type": "code",
   "execution_count": 11,
   "id": "fef7c521",
   "metadata": {},
   "outputs": [
    {
     "data": {
      "text/plain": [
       "array([[0.99110866]], dtype=float32)"
      ]
     },
     "execution_count": 11,
     "metadata": {},
     "output_type": "execute_result"
    }
   ],
   "source": [
    "from sklearn.metrics.pairwise import cosine_similarity\n",
    "\n",
    "# Values near to 1 means they are similar. 0 means they are very different. \n",
    "# Above you can use comparing \"banana\" vs \"grapes\" you get 0.99 similarity as they both are fruits\n",
    "cosine_similarity([e[0]],[e[1]])"
   ]
  },
  {
   "cell_type": "code",
   "execution_count": 12,
   "id": "c4c7841a",
   "metadata": {},
   "outputs": [
    {
     "data": {
      "text/plain": [
       "array([[0.84703803]], dtype=float32)"
      ]
     },
     "execution_count": 12,
     "metadata": {},
     "output_type": "execute_result"
    }
   ],
   "source": [
    "# Comparing banana with jeff bezos you still get 0.84 but it is not as close as 0.99 that we got with grapes\n",
    "\n",
    "cosine_similarity([e[0]],[e[3]])"
   ]
  },
  {
   "cell_type": "code",
   "execution_count": 13,
   "id": "9008ee95",
   "metadata": {},
   "outputs": [
    {
     "data": {
      "text/plain": [
       "array([[0.9872036]], dtype=float32)"
      ]
     },
     "execution_count": 13,
     "metadata": {},
     "output_type": "execute_result"
    }
   ],
   "source": [
    "# Jeff bezos and Elon musk are more similar then Jeff bezos and banana as indicated above\n",
    "\n",
    "cosine_similarity([e[3]],[e[4]])"
   ]
  },
  {
   "cell_type": "markdown",
   "id": "be2206e9",
   "metadata": {},
   "source": [
    "#### Build Model"
   ]
  },
  {
   "cell_type": "markdown",
   "id": "da498674",
   "metadata": {},
   "source": [
    "There are two types of models you can build in tensorflow.\n",
    "\n",
    "(1) Sequential (2) Functional\n",
    "\n",
    "So far we have built sequential model. But below we will build functional model. More information on these two is here: https://becominghuman.ai/sequential-vs-functional-model-in-keras-20684f766057"
   ]
  },
  {
   "cell_type": "code",
   "execution_count": 14,
   "id": "6245ed0d",
   "metadata": {},
   "outputs": [],
   "source": [
    "# Bert layers\n",
    "text_input = tf.keras.layers.Input(shape=(), dtype=tf.string, name='text')\n",
    "preprocessed_text = bert_preprocess(text_input)\n",
    "outputs = bert_encoder(preprocessed_text)\n",
    "\n",
    "# Neural network layers\n",
    "l = tf.keras.layers.Dropout(0.1, name=\"dropout\")(outputs['pooled_output'])\n",
    "l = tf.keras.layers.Dense(1, activation='sigmoid', name=\"output\")(l)\n",
    "\n",
    "# Use inputs and outputs to construct a final model\n",
    "model = tf.keras.Model(inputs=[text_input], outputs = [l])"
   ]
  },
  {
   "cell_type": "code",
   "execution_count": 15,
   "id": "df107d8e",
   "metadata": {},
   "outputs": [
    {
     "name": "stdout",
     "output_type": "stream",
     "text": [
      "Model: \"model\"\n",
      "__________________________________________________________________________________________________\n",
      "Layer (type)                    Output Shape         Param #     Connected to                     \n",
      "==================================================================================================\n",
      "text (InputLayer)               [(None,)]            0                                            \n",
      "__________________________________________________________________________________________________\n",
      "keras_layer (KerasLayer)        {'input_word_ids': ( 0           text[0][0]                       \n",
      "__________________________________________________________________________________________________\n",
      "keras_layer_1 (KerasLayer)      {'pooled_output': (N 109482241   keras_layer[0][0]                \n",
      "                                                                 keras_layer[0][1]                \n",
      "                                                                 keras_layer[0][2]                \n",
      "__________________________________________________________________________________________________\n",
      "dropout (Dropout)               (None, 768)          0           keras_layer_1[0][13]             \n",
      "__________________________________________________________________________________________________\n",
      "output (Dense)                  (None, 1)            769         dropout[0][0]                    \n",
      "==================================================================================================\n",
      "Total params: 109,483,010\n",
      "Trainable params: 769\n",
      "Non-trainable params: 109,482,241\n",
      "__________________________________________________________________________________________________\n"
     ]
    }
   ],
   "source": [
    "model.summary()"
   ]
  },
  {
   "cell_type": "code",
   "execution_count": 16,
   "id": "8c5868db",
   "metadata": {},
   "outputs": [
    {
     "data": {
      "text/plain": [
       "4179"
      ]
     },
     "execution_count": 16,
     "metadata": {},
     "output_type": "execute_result"
    }
   ],
   "source": [
    "len(X_train)"
   ]
  },
  {
   "cell_type": "code",
   "execution_count": 17,
   "id": "90a5dca1",
   "metadata": {},
   "outputs": [],
   "source": [
    "model.compile(optimizer='adam',\n",
    "              loss='binary_crossentropy',\n",
    "              metrics=['accuracy'])"
   ]
  },
  {
   "cell_type": "markdown",
   "id": "a7a0f7c6",
   "metadata": {},
   "source": [
    "#### Train the model "
   ]
  },
  {
   "cell_type": "code",
   "execution_count": 18,
   "id": "b86d3dde",
   "metadata": {},
   "outputs": [
    {
     "name": "stdout",
     "output_type": "stream",
     "text": [
      "Epoch 1/5\n",
      "131/131 [==============================] - 761s 6s/step - loss: 0.3227 - accuracy: 0.8662\n",
      "Epoch 2/5\n",
      "131/131 [==============================] - 901s 7s/step - loss: 0.2319 - accuracy: 0.8988\n",
      "Epoch 3/5\n",
      "131/131 [==============================] - 781s 6s/step - loss: 0.1964 - accuracy: 0.9194\n",
      "Epoch 4/5\n",
      "131/131 [==============================] - 756s 6s/step - loss: 0.1734 - accuracy: 0.9342\n",
      "Epoch 5/5\n",
      "131/131 [==============================] - 733s 6s/step - loss: 0.1579 - accuracy: 0.9447\n"
     ]
    },
    {
     "data": {
      "text/plain": [
       "<keras.callbacks.History at 0x2d1f3a19670>"
      ]
     },
     "execution_count": 18,
     "metadata": {},
     "output_type": "execute_result"
    }
   ],
   "source": [
    "model.fit(X_train, y_train, epochs=5)"
   ]
  },
  {
   "cell_type": "code",
   "execution_count": 19,
   "id": "a969075c",
   "metadata": {},
   "outputs": [
    {
     "name": "stdout",
     "output_type": "stream",
     "text": [
      "44/44 [==============================] - 238s 5s/step - loss: 0.1461 - accuracy: 0.9519\n"
     ]
    },
    {
     "data": {
      "text/plain": [
       "[0.14611853659152985, 0.9519023895263672]"
      ]
     },
     "execution_count": 19,
     "metadata": {},
     "output_type": "execute_result"
    }
   ],
   "source": [
    "model.evaluate(X_test, y_test)"
   ]
  },
  {
   "cell_type": "markdown",
   "id": "385060c6",
   "metadata": {},
   "source": [
    "#### Inference "
   ]
  },
  {
   "cell_type": "code",
   "execution_count": 20,
   "id": "d250ba37",
   "metadata": {},
   "outputs": [
    {
     "data": {
      "text/plain": [
       "array([[0.5410612 ],\n",
       "       [0.6333967 ],\n",
       "       [0.4761097 ],\n",
       "       [0.04881626],\n",
       "       [0.01640821]], dtype=float32)"
      ]
     },
     "execution_count": 20,
     "metadata": {},
     "output_type": "execute_result"
    }
   ],
   "source": [
    "reviews = [\n",
    "    'Reply to win Â£100 weekly! Where will the 2006 FIFA World Cup be held? Send STOP to 87239 to end service',\n",
    "    'You are awarded a SiPix Digital Camera! call 09061221061 from landline. Delivery within 28days. T Cs Box177. M221BP. 2yr warranty. 150ppm. 16 . p pÂ£3.99',\n",
    "    'it to 80488. Your 500 free text messages are valid until 31 December 2005.',\n",
    "    'Hey Sam, Are you coming for a cricket game tomorrow',\n",
    "    \"Why don't you wait 'til at least wednesday to see if you get your .\"\n",
    "]\n",
    "model.predict(reviews)"
   ]
  }
 ],
 "metadata": {
  "kernelspec": {
   "display_name": "Python 3 (ipykernel)",
   "language": "python",
   "name": "python3"
  },
  "language_info": {
   "codemirror_mode": {
    "name": "ipython",
    "version": 3
   },
   "file_extension": ".py",
   "mimetype": "text/x-python",
   "name": "python",
   "nbconvert_exporter": "python",
   "pygments_lexer": "ipython3",
   "version": "3.9.7"
  }
 },
 "nbformat": 4,
 "nbformat_minor": 5
}
